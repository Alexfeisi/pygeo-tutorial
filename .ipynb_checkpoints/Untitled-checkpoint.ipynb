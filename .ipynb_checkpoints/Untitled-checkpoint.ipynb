{
 "cells": [
  {
   "cell_type": "markdown",
   "metadata": {},
   "source": [
    "# pygeo-tutorial\n",
    "用python分析时空数据的教程\n",
    "数据来源：  \n",
    "[深圳出租车数据](https://www.cs.rutgers.edu/~dz220/data.html)  \n",
    "Urban Data Release V2  \n",
    "Taxi GPS Data Format: 22223,2013-10-22 08:49:25,114.116631,22.582466,0  \n",
    "Taxi ID, Time, Latitude, Longitude, Occupancy Status, Speed; Occupancy Status: 1-with passengers & 0-with passengers;  \n",
    "    \n",
    " 在学习本教程之前，强烈建议各位已经掌握了python的最基础的编程语法。如果你还没有掌握，下面建议你完成：\n",
    "\n",
    "[小甲鱼的python入门视频(看到35P就行)](https://www.bilibili.com/video/av27789609?from=search&seid=5111701058031824734)  \n",
    "[慕课网的视频（第7章不用看）](https://www.imooc.com/learn/843)"
   ]
  },
  {
   "cell_type": "markdown",
   "metadata": {},
   "source": [
    "## 教程目录\n",
    "\n",
    ">[1-出租车数据的基础处理，由gps生成OD（pandas）](1-出租车数据的基础处理，由gps生成OD（pandas）.ipynb)  \n",
    "更新中。。。"
   ]
  }
 ],
 "metadata": {
  "kernelspec": {
   "display_name": "Python 3",
   "language": "python",
   "name": "python3"
  },
  "language_info": {
   "codemirror_mode": {
    "name": "ipython",
    "version": 3
   },
   "file_extension": ".py",
   "mimetype": "text/x-python",
   "name": "python",
   "nbconvert_exporter": "python",
   "pygments_lexer": "ipython3",
   "version": "3.6.5"
  },
  "toc": {
   "base_numbering": 1,
   "nav_menu": {},
   "number_sections": true,
   "sideBar": true,
   "skip_h1_title": false,
   "title_cell": "Table of Contents",
   "title_sidebar": "Contents",
   "toc_cell": false,
   "toc_position": {},
   "toc_section_display": true,
   "toc_window_display": false
  }
 },
 "nbformat": 4,
 "nbformat_minor": 2
}
