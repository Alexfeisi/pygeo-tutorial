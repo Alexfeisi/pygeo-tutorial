{
 "cells": [
  {
   "cell_type": "code",
   "execution_count": 31,
   "metadata": {
    "ExecuteTime": {
     "end_time": "2020-02-06T08:02:35.647478Z",
     "start_time": "2020-02-06T08:02:35.309427Z"
    }
   },
   "outputs": [
    {
     "data": {
      "text/plain": [
       "<matplotlib.axes._subplots.AxesSubplot at 0x13f08a2cf88>"
      ]
     },
     "execution_count": 31,
     "metadata": {},
     "output_type": "execute_result"
    },
    {
     "data": {
      "image/png": "[encoded data removed]",
      "text/plain": [
       "<Figure size 432x288 with 1 Axes>"
      ]
     },
     "metadata": {},
     "output_type": "display_data"
    }
   ],
   "source": [
    "import pandas as pd\n",
    "import numpy as np\n",
    "import matplotlib as mpl\n",
    "import matplotlib.pyplot as plt\n",
    "# import seaborn as sns\n",
    "# sns.set(context='notebook',style='white',palette='deep')\n",
    "import geopandas as gpd\n",
    "\n",
    "from shapely.geometry import Point,Polygon,shape\n",
    "\n",
    "\n",
    "shp = r'shapefile/sz.shp'\n",
    "sz = gpd.GeoDataFrame.from_file(shp,encoding = 'utf-8')\n",
    "\n",
    "sz.plot()"
   ]
  },
  {
   "cell_type": "code",
   "execution_count": 2,
   "metadata": {
    "ExecuteTime": {
     "end_time": "2020-02-06T05:41:15.674058Z",
     "start_time": "2020-02-06T05:41:15.633167Z"
    }
   },
   "outputs": [
    {
     "data": {
      "text/html": [
       "<div>\n",
       "<style scoped>\n",
       "    .dataframe tbody tr th:only-of-type {\n",
       "        vertical-align: middle;\n",
       "    }\n",
       "\n",
       "    .dataframe tbody tr th {\n",
       "        vertical-align: top;\n",
       "    }\n",
       "\n",
       "    .dataframe thead th {\n",
       "        text-align: right;\n",
       "    }\n",
       "</style>\n",
       "<table border=\"1\" class=\"dataframe\">\n",
       "  <thead>\n",
       "    <tr style=\"text-align: right;\">\n",
       "      <th></th>\n",
       "      <th>centroid_x</th>\n",
       "      <th>centroid_y</th>\n",
       "      <th>qh</th>\n",
       "      <th>geometry</th>\n",
       "    </tr>\n",
       "  </thead>\n",
       "  <tbody>\n",
       "    <tr>\n",
       "      <th>0</th>\n",
       "      <td>114.143157</td>\n",
       "      <td>22.577605</td>\n",
       "      <td>罗湖</td>\n",
       "      <td>POLYGON ((114.10006 22.53431, 114.09969 22.535...</td>\n",
       "    </tr>\n",
       "    <tr>\n",
       "      <th>1</th>\n",
       "      <td>114.041535</td>\n",
       "      <td>22.546180</td>\n",
       "      <td>福田</td>\n",
       "      <td>POLYGON ((113.98578 22.51348, 113.98558 22.523...</td>\n",
       "    </tr>\n",
       "    <tr>\n",
       "      <th>2</th>\n",
       "      <td>114.270206</td>\n",
       "      <td>22.596432</td>\n",
       "      <td>盐田</td>\n",
       "      <td>POLYGON ((114.22772 22.54290, 114.22643 22.543...</td>\n",
       "    </tr>\n",
       "    <tr>\n",
       "      <th>3</th>\n",
       "      <td>113.851387</td>\n",
       "      <td>22.679120</td>\n",
       "      <td>宝安</td>\n",
       "      <td>MULTIPOLYGON (((113.81831 22.54676, 113.81816 ...</td>\n",
       "    </tr>\n",
       "    <tr>\n",
       "      <th>4</th>\n",
       "      <td>113.926290</td>\n",
       "      <td>22.766157</td>\n",
       "      <td>光明</td>\n",
       "      <td>POLYGON ((113.98587 22.80304, 113.98605 22.802...</td>\n",
       "    </tr>\n",
       "  </tbody>\n",
       "</table>\n",
       "</div>"
      ],
      "text/plain": [
       "   centroid_x  centroid_y  qh  \\\n",
       "0  114.143157   22.577605  罗湖   \n",
       "1  114.041535   22.546180  福田   \n",
       "2  114.270206   22.596432  盐田   \n",
       "3  113.851387   22.679120  宝安   \n",
       "4  113.926290   22.766157  光明   \n",
       "\n",
       "                                            geometry  \n",
       "0  POLYGON ((114.10006 22.53431, 114.09969 22.535...  \n",
       "1  POLYGON ((113.98578 22.51348, 113.98558 22.523...  \n",
       "2  POLYGON ((114.22772 22.54290, 114.22643 22.543...  \n",
       "3  MULTIPOLYGON (((113.81831 22.54676, 113.81816 ...  \n",
       "4  POLYGON ((113.98587 22.80304, 113.98605 22.802...  "
      ]
     },
     "execution_count": 2,
     "metadata": {},
     "output_type": "execute_result"
    }
   ],
   "source": [
    "sz.head()"
   ]
  },
  {
   "cell_type": "code",
   "execution_count": 3,
   "metadata": {
    "ExecuteTime": {
     "end_time": "2020-02-06T06:41:03.748210Z",
     "start_time": "2020-02-06T06:41:03.738162Z"
    }
   },
   "outputs": [
    {
     "data": {
      "text/plain": [
       "(51.0,\n",
       " 12.0,\n",
       " 113.99800701150498,\n",
       " 22.499547959873865,\n",
       " 0.004872614089207591,\n",
       " 0.004496605206422906)"
      ]
     },
     "execution_count": 3,
     "metadata": {},
     "output_type": "execute_result"
    }
   ],
   "source": [
    "import math\n",
    "\n",
    "testlon = 114\n",
    "testlat = 22.5\n",
    "\n",
    "lon1 = 113.75194\n",
    "lon2 = 114.624187\n",
    "lat1 = 22.447837\n",
    "lat2 = 22.864748\n",
    "\n",
    "latStart = min(lat1, lat2)\n",
    "lonStart = min(lon1, lon2)\n",
    "\n",
    "#定义栅格大小(单位m)\n",
    "accuracy = 500\n",
    "\n",
    "deltaLon = accuracy * 360 / (2 * math.pi * 6371004 * math.cos((lat1 + lat2) * math.pi / 360))\n",
    "deltaLat = accuracy * 360 / (2 * math.pi * 6371004)\n",
    "\n",
    "LONCOL = divmod(float(testlon) - (lonStart - deltaLon / 2) , deltaLon)[0]\n",
    "LATCOL = divmod(float(testlat) - (latStart - deltaLat / 2) , deltaLat)[0]\n",
    "\n",
    "HBLON = LONCOL*deltaLon + (lonStart - deltaLon / 2)\n",
    "HBLAT = LATCOL*deltaLat + (latStart - deltaLat / 2)\n",
    "\n",
    "LONCOL,LATCOL,HBLON,HBLAT,deltaLon,deltaLat"
   ]
  },
  {
   "cell_type": "code",
   "execution_count": 14,
   "metadata": {
    "ExecuteTime": {
     "end_time": "2020-02-06T06:48:29.516571Z",
     "start_time": "2020-02-06T06:48:29.510594Z"
    }
   },
   "outputs": [
    {
     "data": {
      "image/svg+xml": [
       "<svg xmlns=\"http://www.w3.org/2000/svg\" xmlns:xlink=\"http://www.w3.org/1999/xlink\" width=\"100.0\" height=\"100.0\" viewBox=\"113.9953757998968 22.497104752707088 0.005262423216350953 0.004886414333554967\" preserveAspectRatio=\"xMinYMin meet\"><g transform=\"matrix(1,0,0,-1,0,44.99909591974773)\"><path fill-rule=\"evenodd\" fill=\"#66cc99\" stroke=\"#555555\" stroke-width=\"0.00010524846432701906\" opacity=\"0.6\" d=\"M 114.00044331854959,22.497299657270656 L 114.00044331854959,22.501796262477075 L 113.99557070446038,22.501796262477075 L 113.99557070446038,22.497299657270656 L 114.00044331854959,22.497299657270656 z\" /></g></svg>"
      ],
      "text/plain": [
       "<shapely.geometry.polygon.Polygon at 0x13f07f45b48>"
      ]
     },
     "execution_count": 14,
     "metadata": {},
     "output_type": "execute_result"
    }
   ],
   "source": [
    "Polygon([(HBLON+deltaLon/2,HBLAT-deltaLat/2),(HBLON+deltaLon/2,HBLAT+deltaLat/2),(HBLON-deltaLon/2,HBLAT+deltaLat/2),(HBLON-deltaLon/2,HBLAT-deltaLat/2)])"
   ]
  },
  {
   "cell_type": "code",
   "execution_count": 40,
   "metadata": {
    "ExecuteTime": {
     "end_time": "2020-02-06T08:11:44.955231Z",
     "start_time": "2020-02-06T08:11:41.544041Z"
    }
   },
   "outputs": [
    {
     "data": {
      "text/plain": [
       "<matplotlib.axes._subplots.AxesSubplot at 0x13f17c29808>"
      ]
     },
     "execution_count": 40,
     "metadata": {},
     "output_type": "execute_result"
    },
    {
     "data": {
      "image/png": "[encoded data removed]",
      "text/plain": [
       "<Figure size 432x288 with 1 Axes>"
      ]
     },
     "metadata": {},
     "output_type": "display_data"
    }
   ],
   "source": [
    "import pandas as pd\n",
    "import numpy as np\n",
    "import matplotlib as mpl\n",
    "import matplotlib.pyplot as plt\n",
    "import geopandas\n",
    "from shapely.geometry import Point,Polygon,shape\n",
    "\n",
    "\n",
    "#定义空的geopandas表\n",
    "data = geopandas.GeoDataFrame()\n",
    "\n",
    "#定义空的list，后面循环一次就往里面加东西\n",
    "LONCOL = []\n",
    "LATCOL = []\n",
    "geometry = []\n",
    "HBLON1 = []\n",
    "HBLAT1 = []\n",
    "\n",
    "#计算总共要生成多少个栅格\n",
    "#lon方向是lonsnum个栅格\n",
    "lonsnum = int((lon2-lon1)/deltaLon)+1\n",
    "#lat方向是latsnum个栅格\n",
    "latsnum = int((lat2-lat1)/deltaLat)+1\n",
    "\n",
    "for i in range(lonsnum):\n",
    "    for j in range(latsnum):\n",
    "\n",
    "        HBLON = i*deltaLon + (lonStart - deltaLon / 2)\n",
    "        HBLAT = j*deltaLat + (latStart - deltaLat / 2)\n",
    "        #把生成的数据都加入到前面定义的空list里面\n",
    "        LONCOL.append(i)\n",
    "        LATCOL.append(j)\n",
    "        HBLON1.append(HBLON)\n",
    "        HBLAT1.append(HBLAT)\n",
    "        \n",
    "        #生成栅格的Polygon形状\n",
    "        #这里我们用周围的栅格推算三个顶点的位置，否则生成的栅格因为小数点取值的问题会出现小缝，无法完美覆盖\n",
    "        HBLON_1 = (i+1)*deltaLon + (lonStart - deltaLon / 2)\n",
    "        HBLAT_1 = (j+1)*deltaLat + (latStart - deltaLat / 2)\n",
    "        geometry.append(Polygon([\n",
    "        (HBLON-deltaLon/2,HBLAT-deltaLat/2),\n",
    "        (HBLON_1-deltaLon/2,HBLAT-deltaLat/2),\n",
    "        (HBLON_1-deltaLon/2,HBLAT_1-deltaLat/2),\n",
    "        (HBLON-deltaLon/2,HBLAT_1-deltaLat/2)]))\n",
    "        \n",
    "#为geopandas文件的每一列赋值为刚刚的list\n",
    "data['LONCOL'] = LONCOL\n",
    "data['LATCOL'] = LATCOL\n",
    "data['HBLON'] = HBLON1\n",
    "data['HBLAT'] = HBLAT1\n",
    "data['geometry'] = geometry\n",
    "\n",
    "data.plot()\n"
   ]
  },
  {
   "cell_type": "code",
   "execution_count": 41,
   "metadata": {
    "ExecuteTime": {
     "end_time": "2020-02-06T08:11:56.791043Z",
     "start_time": "2020-02-06T08:11:52.524808Z"
    }
   },
   "outputs": [
    {
     "data": {
      "text/plain": [
       "<matplotlib.axes._subplots.AxesSubplot at 0x13f17dfaac8>"
      ]
     },
     "execution_count": 41,
     "metadata": {},
     "output_type": "execute_result"
    },
    {
     "data": {
      "image/png": "[encoded data removed]",
      "text/plain": [
       "<Figure size 432x288 with 1 Axes>"
      ]
     },
     "metadata": {},
     "output_type": "display_data"
    }
   ],
   "source": [
    "grid = data[data.intersects(sz.unary_union)]\n",
    "grid.plot()"
   ]
  },
  {
   "cell_type": "code",
   "execution_count": 42,
   "metadata": {
    "ExecuteTime": {
     "end_time": "2020-02-06T08:14:44.992184Z",
     "start_time": "2020-02-06T08:14:44.988158Z"
    }
   },
   "outputs": [
    {
     "data": {
      "text/plain": [
       "'0.6.2'"
      ]
     },
     "execution_count": 42,
     "metadata": {},
     "output_type": "execute_result"
    }
   ],
   "source": [
    "geopandas.__version__"
   ]
  }
 ],
 "metadata": {
  "hide_input": false,
  "kernelspec": {
   "display_name": "Python 3",
   "language": "python",
   "name": "python3"
  },
  "language_info": {
   "codemirror_mode": {
    "name": "ipython",
    "version": 3
   },
   "file_extension": ".py",
   "mimetype": "text/x-python",
   "name": "python",
   "nbconvert_exporter": "python",
   "pygments_lexer": "ipython3",
   "version": "3.7.6"
  },
  "latex_envs": {
   "LaTeX_envs_menu_present": true,
   "autoclose": false,
   "autocomplete": true,
   "bibliofile": "biblio.bib",
   "cite_by": "apalike",
   "current_citInitial": 1,
   "eqLabelWithNumbers": true,
   "eqNumInitial": 1,
   "hotkeys": {
    "equation": "Ctrl-E",
    "itemize": "Ctrl-I"
   },
   "labels_anchors": false,
   "latex_user_defs": false,
   "report_style_numbering": false,
   "user_envs_cfg": false
  },
  "toc": {
   "base_numbering": 1,
   "nav_menu": {},
   "number_sections": true,
   "sideBar": true,
   "skip_h1_title": false,
   "title_cell": "Table of Contents",
   "title_sidebar": "Contents",
   "toc_cell": false,
   "toc_position": {},
   "toc_section_display": true,
   "toc_window_display": false
  }
 },
 "nbformat": 4,
 "nbformat_minor": 4
}
